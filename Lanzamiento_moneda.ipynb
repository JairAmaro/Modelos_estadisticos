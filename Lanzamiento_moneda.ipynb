{
 "cells": [
  {
   "cell_type": "markdown",
   "metadata": {},
   "source": [
    "# Conceptos basicos de Python"
   ]
  },
  {
   "cell_type": "markdown",
   "metadata": {},
   "source": [
    "## Modelo de probabiliadad Laplaciano (clásico)\n",
    "**Ejemplo:** Se lanza una moneda 3 veces, de manera independiente (es decir, el lanzamiento $i$-ésimo no afecta al siguiente $i+1$).\n",
    "Tenemos que el espacio muestral de este experimento es:\n",
    "$$\\Omega =\\{A,S\\}\\times\\{A,S\\}\\times\\{A,S\\}$$\n",
    "donde\n",
    "$$ \\#{\\Omega} =2^{3}=8 $$\n",
    "\n",
    "Sea $E$ un evento, entonces la probabilidad de $E$ se calcula como sigue $$\\mathbb{P}(E) = \\frac{\\#E}{\\#\\Omega}$$"
   ]
  },
  {
   "cell_type": "markdown",
   "metadata": {},
   "source": [
    "Consideremos los siguientes eventos:\n",
    "1. $A$: todos los resultados son águila\n",
    "2. $S$: todos los resultados son sol\n",
    "3. $E$: por lo menos hay un resultado es sol"
   ]
  },
  {
   "cell_type": "markdown",
   "metadata": {},
   "source": [
    "Sea el evento $A_{i}$ donde cae águila en el $i$-ésimo resultado. Así tenemos\n",
    "$$A=A_{1}\\cap A_{3}\\cap A_{3} $$"
   ]
  },
  {
   "cell_type": "code",
   "execution_count": 3,
   "metadata": {},
   "outputs": [
    {
     "data": {
      "text/plain": [
       "{('A', 'A', 'A'),\n",
       " ('A', 'A', 'S'),\n",
       " ('A', 'S', 'A'),\n",
       " ('A', 'S', 'S'),\n",
       " ('S', 'A', 'A'),\n",
       " ('S', 'A', 'S'),\n",
       " ('S', 'S', 'A'),\n",
       " ('S', 'S', 'S')}"
      ]
     },
     "execution_count": 3,
     "metadata": {},
     "output_type": "execute_result"
    }
   ],
   "source": [
    "# Dependencias \n",
    "from itertools import product # product hace el producto cartesiano de dos conjuntos\n",
    "\n",
    "Omega = set(product({'A','S'}, repeat = 3))\n",
    "Omega"
   ]
  },
  {
   "cell_type": "code",
   "execution_count": 21,
   "metadata": {},
   "outputs": [],
   "source": [
    "# Obtenemos la primer cordenada [0] de cada elemento de Omega\n",
    "# El cual obtenemos las combinaciones donde este contenido la letra A \n",
    "A_1 = {om for om in Omega if om[0] == \"A\"}\n",
    "\n",
    "A_2 = {om for om in Omega if om[1] == \"A\"}\n",
    "\n",
    "# La tercera coordenada [2] de cada elemento de Omega\n",
    "A_3 = {om for om in Omega if om[2] == \"A\"}"
   ]
  },
  {
   "cell_type": "code",
   "execution_count": 23,
   "metadata": {},
   "outputs": [
    {
     "name": "stdout",
     "output_type": "stream",
     "text": [
      "\n",
      "Los valores de A_1:\n",
      "{('A', 'A', 'S'), ('A', 'S', 'A'), ('A', 'A', 'A'), ('A', 'S', 'S')}\n",
      "\n",
      "Valores de A_2:\n",
      "{('S', 'A', 'S'), ('A', 'A', 'S'), ('S', 'A', 'A'), ('A', 'A', 'A')}\n",
      "\n",
      "Valores de A_3:\n",
      "{('A', 'S', 'A'), ('S', 'A', 'A'), ('A', 'A', 'A'), ('S', 'S', 'A')}\n",
      "\n"
     ]
    }
   ],
   "source": [
    "print(f\"\"\"\n",
    "Los valores de A_1:\n",
    "{A_1}\n",
    "\n",
    "Valores de A_2:\n",
    "{A_2}\n",
    "\n",
    "Valores de A_3:\n",
    "{A_3}\n",
    "\"\"\")"
   ]
  },
  {
   "cell_type": "code",
   "execution_count": 24,
   "metadata": {},
   "outputs": [
    {
     "data": {
      "text/plain": [
       "{('A', 'A', 'A')}"
      ]
     },
     "execution_count": 24,
     "metadata": {},
     "output_type": "execute_result"
    }
   ],
   "source": [
    "# Veamos la interseccion de A_1 y A_3\n",
    "A = A_1.intersection(A_2.intersection(A_3))\n",
    "A"
   ]
  },
  {
   "cell_type": "code",
   "execution_count": 25,
   "metadata": {},
   "outputs": [
    {
     "data": {
      "text/plain": [
       "0.125"
      ]
     },
     "execution_count": 25,
     "metadata": {},
     "output_type": "execute_result"
    }
   ],
   "source": [
    "# Para calcular la probabilidad del evento A \n",
    "\n",
    "Probablidad_A = len(A) / len(Omega)\n",
    "Probablidad_A"
   ]
  },
  {
   "cell_type": "code",
   "execution_count": 31,
   "metadata": {},
   "outputs": [],
   "source": [
    "# Eventos do# Evento S1: el primer resultado es sol\n",
    "S_1 = {om for om in Omega if om[0] == 'S'}\n",
    "\n",
    "# Evento S2: el segundo resultado es sol\n",
    "S_2 = {om for om in Omega if om[1] == 'S'}\n",
    "\n",
    "# Evento S3: el tercer resultado es sol\n",
    "S_3 = {om for om in Omega if om[2] == 'S'}\n",
    "S = S_1.intersection(S_2).intersection(S_3)"
   ]
  },
  {
   "cell_type": "markdown",
   "metadata": {},
   "source": [
    "En vez de decimal, podemos tener el número expresado en fracción, lo cual se hace como sigue:\n",
    "Vamos a crear una función que calcule la probabilidad de un evento $E$ dentro de un espacio muestral $\\Omega$:"
   ]
  },
  {
   "cell_type": "code",
   "execution_count": 26,
   "metadata": {},
   "outputs": [],
   "source": [
    "from fractions import Fraction  # Fraction es una clase que nos permite trabajar con fracciones\n",
    "\n",
    "def probabilidad(E,Omega): #E es un evento y Omega es el espacio muestral\n",
    "  probabilidad = Fraction(len(E),len(Omega))\n",
    "  return probabilidad"
   ]
  },
  {
   "cell_type": "code",
   "execution_count": 29,
   "metadata": {},
   "outputs": [
    {
     "data": {
      "text/plain": [
       "Fraction(1, 8)"
      ]
     },
     "execution_count": 29,
     "metadata": {},
     "output_type": "execute_result"
    }
   ],
   "source": [
    "probabilidad(A,Omega)"
   ]
  },
  {
   "cell_type": "code",
   "execution_count": 32,
   "metadata": {},
   "outputs": [
    {
     "data": {
      "text/plain": [
       "Fraction(1, 8)"
      ]
     },
     "execution_count": 32,
     "metadata": {},
     "output_type": "execute_result"
    }
   ],
   "source": [
    "probabilidad(S,Omega)"
   ]
  },
  {
   "cell_type": "code",
   "execution_count": 34,
   "metadata": {},
   "outputs": [
    {
     "data": {
      "text/plain": [
       "Fraction(7, 8)"
      ]
     },
     "execution_count": 34,
     "metadata": {},
     "output_type": "execute_result"
    }
   ],
   "source": [
    "1 - probabilidad(A,Omega) # Probabilidad de que no ocurra el evento A"
   ]
  },
  {
   "cell_type": "code",
   "execution_count": null,
   "metadata": {},
   "outputs": [],
   "source": []
  }
 ],
 "metadata": {
  "kernelspec": {
   "display_name": "Python 3",
   "language": "python",
   "name": "python3"
  },
  "language_info": {
   "codemirror_mode": {
    "name": "ipython",
    "version": 3
   },
   "file_extension": ".py",
   "mimetype": "text/x-python",
   "name": "python",
   "nbconvert_exporter": "python",
   "pygments_lexer": "ipython3",
   "version": "3.11.9"
  }
 },
 "nbformat": 4,
 "nbformat_minor": 2
}
