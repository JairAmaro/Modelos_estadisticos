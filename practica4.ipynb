{
 "cells": [
  {
   "cell_type": "code",
   "execution_count": null,
   "metadata": {},
   "outputs": [],
   "source": [
    "import pandas as pd \n",
    "import matplotlib.pyplot as plt\n",
    "import numpy as np\n",
    "from sklearn.decomposition import PCA\n",
    "from sklearn.preprocessing import StandardScaler"
   ]
  },
  {
   "cell_type": "code",
   "execution_count": 83,
   "metadata": {},
   "outputs": [],
   "source": [
    "df = pd.read_csv(\"C:/Users/oscar/Downloads/Big5raw.csv\")\n",
    "df_paises = pd.read_excel(\"C:/Users/oscar/Downloads/Listado ISO.xlsx\")\n",
    "valid_countries = df_paises['Alpha-2 code'].dropna().unique()"
   ]
  },
  {
   "cell_type": "code",
   "execution_count": null,
   "metadata": {},
   "outputs": [
    {
     "name": "stdout",
     "output_type": "stream",
     "text": [
      "Países no válidos en df:\n",
      "      country\n",
      "308       (nu\n",
      "365       NaN\n",
      "1542       A1\n",
      "3367       EU\n",
      "6005       A2\n",
      "9714       AP\n",
      "16417     USS\n",
      "\n",
      "Número de países no válidos: 442\n"
     ]
    }
   ],
   "source": [
    "invalid_countries = df[~df['country'].isin(valid_countries)]\n",
    "\n",
    "# Mostrar los paísesv\n",
    "print(\"Países no válidos en df:\")\n",
    "print(invalid_countries[['country']].drop_duplicates())\n",
    "num_invalid_countries = invalid_countries.shape[0]\n",
    "print(f\"\\nNúmero de países no válidos: {num_invalid_countries}\")"
   ]
  },
  {
   "cell_type": "code",
   "execution_count": null,
   "metadata": {},
   "outputs": [
    {
     "name": "stdout",
     "output_type": "stream",
     "text": [
      "\n",
      "Número total de registros después de eliminar los países no válidos: 19303\n"
     ]
    }
   ],
   "source": [
    "df.loc[df[\"age\"] > 1000, \"age\"] = 2012 - df[\"age\"]\n",
    "df[\"country\"] = df[\"country\"].replace(\"USS\", \"US\")\n",
    "df[\"country\"] = df[\"country\"].replace(\"EU\", \"US\")\n",
    "valid_countries = df_paises['Alpha-2 code'].dropna().unique()  # Extraer los códigos Alpha-2\n",
    "\n",
    "df = df[df['country'].isin(valid_countries)]\n",
    "print(f\"\\nNúmero total de registros después de eliminar los países no válidos: {df.shape[0]}\")"
   ]
  },
  {
   "cell_type": "code",
   "execution_count": null,
   "metadata": {},
   "outputs": [
    {
     "name": "stdout",
     "output_type": "stream",
     "text": [
      "Eliminados en Paso 1 (valores 0, 0.0, nulos): 19303\n",
      "Eliminados en Paso 2 (edad > 68): 72\n",
      "Eliminados en Paso 3 (país inválido): 0\n",
      "Eliminados en Paso 4 (valores faltantes en demográficas): 0\n",
      "Registros finales: 18896\n"
     ]
    }
   ],
   "source": [
    "# Paso 1: Eliminar casos con valores 0, 0.0 y nulos (NaN) en los atributos\n",
    "deleted_1 = df[(df == 0) | (df == 0.0) | df.isna()].shape[0]\n",
    "df_step_1 = df.copy()  # Hacemos una copia del df para no modificar el original al calcular eliminados\n",
    "df = df.replace([0, 0.0], pd.NA)  # Reemplazar 0 y 0.0 por NaN\n",
    "df = df.dropna()  # Eliminar filas con NaN\n",
    "\n",
    "# Paso 2: Eliminar casos con edades mayores a 68\n",
    "deleted_2 = df[df[\"age\"] > 68].shape[0]\n",
    "df = df[df[\"age\"] <= 68]\n",
    "\n",
    "# Paso 3: Eliminar casos con códigos de países inválidos (NaN o \"(nu)\")\n",
    "deleted_3 = df[df[\"country\"].isin([pd.NA, \"(nu\"])].shape[0]\n",
    "df = df[~df[\"country\"].isin([pd.NA, \"(nu\"])]\n",
    "\n",
    "# Paso 4: Eliminar cualquier caso con valores faltantes en las variables demográficas\n",
    "deleted_4 = df[df[[\"age\", \"gender\", \"country\"]].isna().any(axis=1)].shape[0]\n",
    "df = df.dropna(subset=[\"age\", \"gender\", \"country\"])\n",
    "\n",
    "deleted_records = {\n",
    "    \"Eliminados en Paso 1 (valores 0, 0.0, nulos)\": deleted_1,\n",
    "    \"Eliminados en Paso 2 (edad > 68)\": deleted_2,\n",
    "    \"Eliminados en Paso 3 (país inválido)\": deleted_3,\n",
    "    \"Eliminados en Paso 4 (valores faltantes en demográficas)\": deleted_4,\n",
    "    \"Registros finales\": len(df)\n",
    "}\n",
    "\n",
    "for key, value in deleted_records.items():\n",
    "    print(f\"{key}: {value}\")"
   ]
  },
  {
   "cell_type": "code",
   "execution_count": null,
   "metadata": {},
   "outputs": [
    {
     "name": "stdout",
     "output_type": "stream",
     "text": [
      "Top 5 variables de personalidad más representativas (por varianza):\n",
      "E7    2.048538\n",
      "C6     1.95573\n",
      "E9     1.95087\n",
      "A1    1.875966\n",
      "C2    1.866917\n",
      "dtype: object\n"
     ]
    }
   ],
   "source": [
    "personality_columns = [\n",
    "    'E1', 'E2', 'E3', 'E4', 'E5', 'E6', 'E7', 'E8', 'E9', 'E10',\n",
    "    'N1', 'N2', 'N3', 'N4', 'N5', 'N6', 'N7', 'N8', 'N9', 'N10',\n",
    "    'A1', 'A2', 'A3', 'A4', 'A5', 'A6', 'A7', 'A8', 'A9', 'A10',\n",
    "    'C1', 'C2', 'C3', 'C4', 'C5', 'C6', 'C7', 'C8', 'C9', 'C10',\n",
    "    'O1', 'O2', 'O3', 'O4', 'O5', 'O6', 'O7', 'O8', 'O9', 'O10'\n",
    "]\n",
    "\n",
    "personality_var = df[personality_columns].var()\n",
    "top_5_personality = personality_var.sort_values(ascending=False).head(5)\n",
    "\n",
    "print(\"Top 5 variables de personalidad más representativas (por varianza):\")\n",
    "print(top_5_personality)"
   ]
  },
  {
   "cell_type": "markdown",
   "metadata": {},
   "source": [
    "Las 5 variables de personalidad más representativas, basadas en la varianza, son:\n",
    "\n",
    "E7: \"I talk to a lot of different people at parties.\" (Varianza = 2.048391)\n",
    "C6: \"I often forget to put things back in their proper place.\" (Varianza = 1.956031)\n",
    "E9: \"I don't mind being the center of attention.\" (Varianza = 1.95034)\n",
    "A1: \"I feel little concern for others.\" (Varianza = 1.876664)\n",
    "C2: \"I leave my belongings around.\" (Varianza = 1.867885)\n",
    "\n",
    "Justificación:\n",
    "Estas variables tienen la mayor dispersión entre las respuestas de los participantes, lo que sugiere que son las que mejor diferencian las características de personalidad en este conjunto de datos. En otras palabras, los participantes ofrecen respuestas más variadas a estas preguntas, lo que las convierte en buenos predictores o representaciones de las diferencias de personalidad.\n",
    "\n",
    "Por ejemplo, variables como E7 y E9 están relacionadas con la extroversión, lo que indica que los participantes tienen diferentes grados de sociabilidad y de comodidad al estar en el centro de atención. Por otro lado, C6 y C2 están relacionadas con la conciencia, mostrando variabilidad en la organización y el cuidado con los detalles. A1, que mide la empatía, también refleja una gran variabilidad, lo que sugiere que las personas tienen diferentes niveles de preocupación por los demás"
   ]
  },
  {
   "cell_type": "code",
   "execution_count": null,
   "metadata": {},
   "outputs": [],
   "source": [
    "# Seleccionar solo las columnas de personalidad\n",
    "df_personality = df[personality_columns]\n",
    "\n",
    "# Estándarizar las variables (PCA es sensible a la escala de los datos)\n",
    "scaler = StandardScaler()\n",
    "df_scaled = scaler.fit_transform(df_personality)\n"
   ]
  },
  {
   "cell_type": "code",
   "execution_count": 89,
   "metadata": {},
   "outputs": [
    {
     "name": "stdout",
     "output_type": "stream",
     "text": [
      "Componente 1: 16.06%\n",
      "Componente 2: 25.30%\n",
      "Componente 3: 32.82%\n",
      "Componente 4: 39.92%\n",
      "Componente 5: 45.45%\n",
      "Componente 6: 48.58%\n",
      "Componente 7: 51.25%\n",
      "Componente 8: 53.35%\n",
      "Componente 9: 55.29%\n",
      "Componente 10: 57.14%\n",
      "Componente 11: 58.93%\n",
      "Componente 12: 60.67%\n",
      "Componente 13: 62.36%\n",
      "Componente 14: 63.96%\n",
      "Componente 15: 65.54%\n",
      "Componente 16: 67.01%\n",
      "Componente 17: 68.47%\n",
      "Componente 18: 69.91%\n",
      "Componente 19: 71.27%\n",
      "Componente 20: 72.60%\n",
      "Componente 21: 73.91%\n",
      "Componente 22: 75.18%\n",
      "Componente 23: 76.41%\n",
      "Componente 24: 77.59%\n",
      "Componente 25: 78.76%\n",
      "Componente 26: 79.89%\n",
      "Componente 27: 81.00%\n",
      "Componente 28: 82.07%\n",
      "Componente 29: 83.11%\n",
      "Componente 30: 84.13%\n",
      "Componente 31: 85.14%\n",
      "Componente 32: 86.13%\n",
      "Componente 33: 87.10%\n",
      "Componente 34: 88.07%\n",
      "Componente 35: 88.97%\n",
      "Componente 36: 89.86%\n",
      "Componente 37: 90.73%\n",
      "Componente 38: 91.57%\n",
      "Componente 39: 92.41%\n",
      "Componente 40: 93.22%\n",
      "Componente 41: 94.01%\n",
      "Componente 42: 94.77%\n",
      "Componente 43: 95.52%\n",
      "Componente 44: 96.25%\n",
      "Componente 45: 96.94%\n",
      "Componente 46: 97.63%\n",
      "Componente 47: 98.28%\n",
      "Componente 48: 98.93%\n",
      "Componente 49: 99.56%\n",
      "Componente 50: 100.00%\n"
     ]
    }
   ],
   "source": [
    "# Crear el modelo PCA\n",
    "pca = PCA()\n",
    "\n",
    "# Ajustar el modelo PCA a los datos escalados\n",
    "pca.fit(df_scaled)\n",
    "\n",
    "# Ver la varianza explicada por cada componente\n",
    "explained_variance = pca.explained_variance_ratio_\n",
    "\n",
    "# Mostrar la varianza acumulada\n",
    "cumulative_variance = explained_variance.cumsum()\n",
    "\n",
    "# Mostrar el porcentaje de varianza explicada por cada componente\n",
    "for i, var in enumerate(cumulative_variance):\n",
    "    print(f\"Componente {i+1}: {var*100:.2f}%\")\n"
   ]
  },
  {
   "cell_type": "code",
   "execution_count": 90,
   "metadata": {},
   "outputs": [
    {
     "name": "stdout",
     "output_type": "stream",
     "text": [
      "Se necesitan 37 componentes para representar el 90% de los datos.\n"
     ]
    }
   ],
   "source": [
    "# Encontrar el número de componentes que explican el 90% de la varianza\n",
    "components_needed = (cumulative_variance >= 0.90).argmax() + 1\n",
    "print(f\"Se necesitan {components_needed} componentes para representar el 90% de los datos.\")\n"
   ]
  },
  {
   "cell_type": "code",
   "execution_count": null,
   "metadata": {},
   "outputs": [
    {
     "data": {
      "text/html": [
       "<div>\n",
       "<style scoped>\n",
       "    .dataframe tbody tr th:only-of-type {\n",
       "        vertical-align: middle;\n",
       "    }\n",
       "\n",
       "    .dataframe tbody tr th {\n",
       "        vertical-align: top;\n",
       "    }\n",
       "\n",
       "    .dataframe thead th {\n",
       "        text-align: right;\n",
       "    }\n",
       "</style>\n",
       "<table border=\"1\" class=\"dataframe\">\n",
       "  <thead>\n",
       "    <tr style=\"text-align: right;\">\n",
       "      <th></th>\n",
       "      <th>E1</th>\n",
       "      <th>E2</th>\n",
       "      <th>E3</th>\n",
       "      <th>E4</th>\n",
       "      <th>E5</th>\n",
       "      <th>E6</th>\n",
       "      <th>E7</th>\n",
       "      <th>E8</th>\n",
       "      <th>E9</th>\n",
       "      <th>E10</th>\n",
       "      <th>...</th>\n",
       "      <th>O1</th>\n",
       "      <th>O2</th>\n",
       "      <th>O3</th>\n",
       "      <th>O4</th>\n",
       "      <th>O5</th>\n",
       "      <th>O6</th>\n",
       "      <th>O7</th>\n",
       "      <th>O8</th>\n",
       "      <th>O9</th>\n",
       "      <th>O10</th>\n",
       "    </tr>\n",
       "  </thead>\n",
       "  <tbody>\n",
       "    <tr>\n",
       "      <th>0</th>\n",
       "      <td>-0.184079</td>\n",
       "      <td>0.180015</td>\n",
       "      <td>-0.250917</td>\n",
       "      <td>0.206253</td>\n",
       "      <td>-0.232007</td>\n",
       "      <td>0.198112</td>\n",
       "      <td>-0.221088</td>\n",
       "      <td>0.133185</td>\n",
       "      <td>-0.164691</td>\n",
       "      <td>0.201623</td>\n",
       "      <td>...</td>\n",
       "      <td>-0.069581</td>\n",
       "      <td>0.099313</td>\n",
       "      <td>-0.035675</td>\n",
       "      <td>0.072519</td>\n",
       "      <td>-0.130208</td>\n",
       "      <td>0.087332</td>\n",
       "      <td>-0.111727</td>\n",
       "      <td>-0.012819</td>\n",
       "      <td>0.003720</td>\n",
       "      <td>-0.117102</td>\n",
       "    </tr>\n",
       "    <tr>\n",
       "      <th>1</th>\n",
       "      <td>-0.128194</td>\n",
       "      <td>0.166950</td>\n",
       "      <td>-0.072901</td>\n",
       "      <td>0.094944</td>\n",
       "      <td>-0.148321</td>\n",
       "      <td>0.127626</td>\n",
       "      <td>-0.136392</td>\n",
       "      <td>0.107972</td>\n",
       "      <td>-0.115835</td>\n",
       "      <td>0.074984</td>\n",
       "      <td>...</td>\n",
       "      <td>-0.013612</td>\n",
       "      <td>-0.029603</td>\n",
       "      <td>-0.108852</td>\n",
       "      <td>0.026210</td>\n",
       "      <td>-0.021431</td>\n",
       "      <td>0.061567</td>\n",
       "      <td>0.038150</td>\n",
       "      <td>-0.045015</td>\n",
       "      <td>-0.090200</td>\n",
       "      <td>-0.069439</td>\n",
       "    </tr>\n",
       "    <tr>\n",
       "      <th>2</th>\n",
       "      <td>0.156285</td>\n",
       "      <td>-0.143573</td>\n",
       "      <td>0.066179</td>\n",
       "      <td>-0.168613</td>\n",
       "      <td>0.088599</td>\n",
       "      <td>-0.103011</td>\n",
       "      <td>0.126811</td>\n",
       "      <td>-0.191013</td>\n",
       "      <td>0.176447</td>\n",
       "      <td>-0.159581</td>\n",
       "      <td>...</td>\n",
       "      <td>0.023904</td>\n",
       "      <td>-0.033000</td>\n",
       "      <td>0.019030</td>\n",
       "      <td>-0.007955</td>\n",
       "      <td>0.023799</td>\n",
       "      <td>-0.028569</td>\n",
       "      <td>-0.019995</td>\n",
       "      <td>0.057561</td>\n",
       "      <td>-0.130208</td>\n",
       "      <td>0.042388</td>\n",
       "    </tr>\n",
       "  </tbody>\n",
       "</table>\n",
       "<p>3 rows × 50 columns</p>\n",
       "</div>"
      ],
      "text/plain": [
       "         E1        E2        E3        E4        E5        E6        E7  \\\n",
       "0 -0.184079  0.180015 -0.250917  0.206253 -0.232007  0.198112 -0.221088   \n",
       "1 -0.128194  0.166950 -0.072901  0.094944 -0.148321  0.127626 -0.136392   \n",
       "2  0.156285 -0.143573  0.066179 -0.168613  0.088599 -0.103011  0.126811   \n",
       "\n",
       "         E8        E9       E10  ...        O1        O2        O3        O4  \\\n",
       "0  0.133185 -0.164691  0.201623  ... -0.069581  0.099313 -0.035675  0.072519   \n",
       "1  0.107972 -0.115835  0.074984  ... -0.013612 -0.029603 -0.108852  0.026210   \n",
       "2 -0.191013  0.176447 -0.159581  ...  0.023904 -0.033000  0.019030 -0.007955   \n",
       "\n",
       "         O5        O6        O7        O8        O9       O10  \n",
       "0 -0.130208  0.087332 -0.111727 -0.012819  0.003720 -0.117102  \n",
       "1 -0.021431  0.061567  0.038150 -0.045015 -0.090200 -0.069439  \n",
       "2  0.023799 -0.028569 -0.019995  0.057561 -0.130208  0.042388  \n",
       "\n",
       "[3 rows x 50 columns]"
      ]
     },
     "execution_count": 91,
     "metadata": {},
     "output_type": "execute_result"
    }
   ],
   "source": [
    "# Ver la importancia de cada variable en cada componente\n",
    "component_importance = pd.DataFrame(pca.components_, columns=personality_columns)\n",
    "component_importance.head(3)\n",
    "\n"
   ]
  },
  {
   "cell_type": "code",
   "execution_count": null,
   "metadata": {},
   "outputs": [
    {
     "data": {
      "image/png": "[encoded data removed]",
      "text/plain": [
       "<Figure size 800x600 with 1 Axes>"
      ]
     },
     "metadata": {},
     "output_type": "display_data"
    },
    {
     "name": "stdout",
     "output_type": "stream",
     "text": [
      "Se necesitan 37 componentes para explicar el 90% de la varianza.\n"
     ]
    }
   ],
   "source": [
    "explained_variance = pca.explained_variance_ratio_\n",
    "\n",
    "cumulative_variance = np.cumsum(explained_variance)\n",
    "\n",
    "plt.figure(figsize=(8, 6))\n",
    "plt.plot(range(1, len(explained_variance) + 1), cumulative_variance, marker='o', linestyle='-', color='b', label='Varianza acumulada')\n",
    "\n",
    "plt.axhline(y=0.90, color='r', linestyle='--', label=\"90% de varianza\")\n",
    "\n",
    "num_components_90 = np.argmax(cumulative_variance >= 0.90) + 1\n",
    "\n",
    "\n",
    "plt.plot(num_components_90, cumulative_variance[num_components_90 - 1], 'go')  # Marcamos el punto en rojo\n",
    "plt.text(num_components_90, cumulative_variance[num_components_90 - 1], f'           Componente {num_components_90}', color='green')\n",
    "plt.plot([num_components_90, num_components_90], [0, cumulative_variance[num_components_90 - 1]], 'r--')\n",
    "\n",
    "plt.title('Varianza acumulada y número de componentes principales')\n",
    "plt.xlabel('Número de componentes')\n",
    "plt.ylabel('Varianza acumulada')\n",
    "plt.legend(loc='best')\n",
    "plt.grid(True)\n",
    "\n",
    "plt.show()\n",
    "print(f\"Se necesitan {num_components_90} componentes para explicar el 90% de la varianza.\")\n"
   ]
  },
  {
   "cell_type": "code",
   "execution_count": null,
   "metadata": {},
   "outputs": [
    {
     "name": "stdout",
     "output_type": "stream",
     "text": [
      "Top 5 variables representativas para el primer componente:\n",
      "E10 0.201622981017934\n",
      "E4 0.20625332210938416\n",
      "E7 -0.22108828428977378\n",
      "E5 -0.23200698773861217\n",
      "E3 -0.2509172187409806\n"
     ]
    }
   ],
   "source": [
    "\n",
    "loadings = pca.components_\n",
    "component_1_loadings = loadings[0]  # Cargas para el primer componente\n",
    "top_5_variables_component_1 = np.argsort(np.abs(component_1_loadings))[-5:]\n",
    "\n",
    "# Ver que shoow\n",
    "print(\"Top 5 variables representativas para el primer componente:\")\n",
    "for idx in top_5_variables_component_1:\n",
    "    print(personality_columns[idx], component_1_loadings[idx])\n"
   ]
  },
  {
   "cell_type": "code",
   "execution_count": null,
   "metadata": {},
   "outputs": [],
   "source": []
  }
 ],
 "metadata": {
  "kernelspec": {
   "display_name": "Python 3",
   "language": "python",
   "name": "python3"
  },
  "language_info": {
   "codemirror_mode": {
    "name": "ipython",
    "version": 3
   },
   "file_extension": ".py",
   "mimetype": "text/x-python",
   "name": "python",
   "nbconvert_exporter": "python",
   "pygments_lexer": "ipython3",
   "version": "3.11.9"
  }
 },
 "nbformat": 4,
 "nbformat_minor": 2
}
