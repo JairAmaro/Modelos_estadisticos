{
 "cells": [
  {
   "cell_type": "markdown",
   "metadata": {},
   "source": [
    "1.   Documenta tu colab\n",
    "2.   Calcular la ley de las siguientes variables aleatorias\n",
    "     *   La diferencia de las caras es mayor que 1\n",
    "     *   La suma de las caras sea par\n",
    "3. Verifica en cada caso, que\n",
    "   $$\\sum_{k\\in R_{X}}\\mathbb{P}(X=k) = 1$$\n",
    "4. Gráfica y calcula la función de distribución de la v.a. S (la suma de los resultados es n)  \n",
    "     Aquí pueden utilizar Python (para los que ya tengan conocimiento previo de matplotlib) o dibujado a mano / tablet /etc\n",
    "5. Sube tu notebook a GitHub"
   ]
  },
  {
   "cell_type": "code",
   "execution_count": 1,
   "metadata": {},
   "outputs": [],
   "source": [
    "# Dependencias\n",
    "import itertools\n",
    "import matplotlib.pyplot as plt\n",
    "import pandas as pd\n",
    "from fractions import Fraction"
   ]
  },
  {
   "cell_type": "code",
   "execution_count": 2,
   "metadata": {},
   "outputs": [],
   "source": [
    "def diferencia_mayor_que_uno():\n",
    "    '''\n",
    "    Calcula la probabilidad de que la diferencia entre las caras de dos dados sea mayor que 1\n",
    "    Argumentos:\n",
    "        Ninguno\n",
    "    Retorna:\n",
    "        (float): La probabilidad de que la diferencia sea mayor que 1\n",
    "    '''\n",
    "    # Genera todas las combinaciones posibles de dos dados de 6 caras (1 a 6) y las guarda en una lista de tuplas (x, y) y se repiten 2 veces (porque son dos dados)\n",
    "    resultados = list(itertools.product(range(1, 7), repeat=2))\n",
    "    \n",
    "    # Calcula cuántas combinaciones tienen una diferencia mayor que 1, es decir, cuántas combinaciones tienen una diferencia mayor que 1\n",
    "    cuenta_mayor_que_uno = sum(abs(x - y) > 1 for x, y in resultados)\n",
    "    \n",
    "    # La probabilidad es el número de combinaciones favorables dividido entre el total de combinaciones\n",
    "    probabilidad = cuenta_mayor_que_uno / len(resultados)\n",
    "    \n",
    "    return probabilidad\n",
    "\n",
    "# las variables x e y son declaradas implícitamente dentro de una comprensión de lista"
   ]
  },
  {
   "cell_type": "code",
   "execution_count": 3,
   "metadata": {},
   "outputs": [],
   "source": [
    "def suma_par():\n",
    "    '''\n",
    "    Calcula la probabilidad de que la suma de las caras de dos dados sea par\n",
    "    Argumentos:\n",
    "        Ninguno\n",
    "    \n",
    "    Retorna:\n",
    "        (float): La probabilidad de que la suma sea par\n",
    "    '''\n",
    "    resultados = list(itertools.product(range(1, 7), repeat=2))\n",
    "    # Calcula cuántas combinaciones tienen una suma par\n",
    "    cuenta_suma_par = sum((x + y) % 2 == 0 for x, y in resultados)\n",
    "    \n",
    "    # La probabilidad es el número de combinaciones favorables dividido entre el total de combinaciones\n",
    "    probabilidad = cuenta_suma_par / len(resultados)\n",
    "    \n",
    "    return probabilidad"
   ]
  },
  {
   "cell_type": "code",
   "execution_count": 4,
   "metadata": {},
   "outputs": [],
   "source": [
    "def funcion_distribucion_suma(n):\n",
    "    '''\n",
    "    Calcula la función de distribución de la suma de los resultados de dos dados que da como resultado n\n",
    "    \n",
    "    Argumento:\n",
    "        n (int): La suma de los resultados, se deja n como argumento para poder calcular la probabilidad de obtener cualquier suma\n",
    "    \n",
    "    Retorna:\n",
    "        (float): La probabilidad de obtener la suma n\n",
    "    '''\n",
    "    # Genera todas las combinaciones posibles de dos dados\n",
    "    resultados = list(itertools.product(range(1, 7), repeat=2))\n",
    "    \n",
    "    # Cuenta cuántas combinaciones suman exactamente n\n",
    "    cuenta_suma_n = sum(x + y == n for x, y in resultados)\n",
    "    \n",
    "    # La probabilidad es el número de combinaciones favorables dividido entre el total de combinaciones\n",
    "    probabilidad = cuenta_suma_n / len(resultados)\n",
    "    \n",
    "    return probabilidad\n"
   ]
  },
  {
   "cell_type": "markdown",
   "metadata": {},
   "source": [
    "# Uso de las funciones\n",
    "\n",
    "## 1) Probabilidad de que la diferencia sea mayor que 1"
   ]
  },
  {
   "cell_type": "code",
   "execution_count": 5,
   "metadata": {},
   "outputs": [
    {
     "name": "stdout",
     "output_type": "stream",
     "text": [
      "Probabilidad de que la diferencia sea mayor que 1: 0.5555555555555556\n"
     ]
    }
   ],
   "source": [
    "print(\"Probabilidad de que la diferencia sea mayor que 1:\", diferencia_mayor_que_uno())"
   ]
  },
  {
   "cell_type": "markdown",
   "metadata": {},
   "source": [
    "## 2) Probabilidad de que la suma sea par"
   ]
  },
  {
   "cell_type": "code",
   "execution_count": 6,
   "metadata": {},
   "outputs": [
    {
     "name": "stdout",
     "output_type": "stream",
     "text": [
      "Probabilidad de que la suma sea par: 0.5\n"
     ]
    }
   ],
   "source": [
    "print(\"Probabilidad de que la suma sea par:\", suma_par())"
   ]
  },
  {
   "cell_type": "markdown",
   "metadata": {},
   "source": [
    "## 1) y 2)  Verifiquemos con diccionarios (ya tendran dentro de la función la suma de las probabilidades) "
   ]
  },
  {
   "cell_type": "code",
   "execution_count": 7,
   "metadata": {},
   "outputs": [],
   "source": [
    "def calcular_ley_diferencia_mayor_uno():\n",
    "    \"\"\"\n",
    "    Calcula la ley de probabilidad para la diferencia de las caras de dos dados mayor que 1\n",
    "    También verifica que la suma de las probabilidades sea igual a 1\n",
    "    \n",
    "    Retorna:\n",
    "        pd.Series: Ley de probabilidad ordenada por la diferencia de caras\n",
    "    \"\"\"\n",
    "    # Genera todas las combinaciones de dos dados\n",
    "    omega = list(itertools.product(range(1, 7), repeat=2))\n",
    "    \n",
    "    # Genera un diccionario con las diferencias mayores a 1\n",
    "    S_d = {(i, j): i - j for i, j in omega if abs(i - j) > 1}\n",
    "    \n",
    "    # Inicializa un diccionario para agrupar las diferencias\n",
    "    dS_d = {}\n",
    "    \n",
    "    # Agrupa los pares de dados por la diferencia\n",
    "    for i, diferencia in S_d.items():\n",
    "        if diferencia not in dS_d:\n",
    "            dS_d[diferencia] = set()\n",
    "        dS_d[diferencia].add(i)\n",
    "    \n",
    "    # Imprime los resultados\n",
    "    print(\"Diferencia: Pares\")\n",
    "    for diferencia, pares in sorted(dS_d.items()):\n",
    "        print(f\"{diferencia}: {pares}\")\n",
    "    \n",
    "    # Calcula la probabilidad para cada diferencia\n",
    "    total_combinaciones = len(S_d)\n",
    "    leyS_d = {k: Fraction(len(v), total_combinaciones) for k, v in dS_d.items()}\n",
    "    \n",
    "    # Convierte a pd.Series para ordenar\n",
    "    leyS_d = pd.Series(leyS_d).sort_index()\n",
    "    \n",
    "    # Verifica la suma de las probabilidades\n",
    "    suma_probabilidades = leyS_d.sum()\n",
    "    if suma_probabilidades == 1:\n",
    "        print(f\"La suma de las probabilidades es {suma_probabilidades}\")\n",
    "    else:\n",
    "        print(f\"La suma de las probabilidades no es 1, es {suma_probabilidades}\")\n",
    "\n",
    "    # Retorna el DataFrame ordenado\n",
    "    return leyS_d"
   ]
  },
  {
   "cell_type": "code",
   "execution_count": 8,
   "metadata": {},
   "outputs": [],
   "source": [
    "def calcular_ley_suma_par():\n",
    "    \"\"\"\n",
    "    Calcula la ley de probabilidad para la suma par de las caras de dos dados\n",
    "    También verifica que la suma de las probabilidades sea igual a 1\n",
    "    \n",
    "    Retorna:\n",
    "        pd.Series: Ley de probabilidad ordenada por la suma par de caras\n",
    "    \"\"\"\n",
    "    # Genera todas las combinaciones de dos dados\n",
    "    omega = list(itertools.product(range(1, 7), repeat=2))\n",
    "    \n",
    "    # Genera un diccionario con las sumas pares\n",
    "    S_par = {(i, j): i + j for i, j in omega if (i + j) % 2 == 0}\n",
    "    \n",
    "    # Inicializa un diccionario para agrupar las sumas\n",
    "    dS_par = {}\n",
    "    \n",
    "    # Agrupa los pares de dados por la suma\n",
    "    for i, suma in S_par.items():\n",
    "        if suma not in dS_par:\n",
    "            dS_par[suma] = set()\n",
    "        dS_par[suma].add(i)\n",
    "    \n",
    "    # Imprime los resultados\n",
    "    print(\"Suma: Pares\")\n",
    "    for suma, pares in sorted(dS_par.items()):\n",
    "        print(f\"{suma}: {pares}\")\n",
    "    \n",
    "    # Calcula la probabilidad para cada suma\n",
    "    total_combinaciones = len(S_par)\n",
    "    leyS_par = {k: Fraction(len(v), total_combinaciones) for k, v in dS_par.items()}\n",
    "    \n",
    "    # Convierte a pd.Series para ordenar\n",
    "    leyS_par = pd.Series(leyS_par).sort_index()\n",
    "    \n",
    "    # Verifica la suma de las probabilidades\n",
    "    suma_probabilidades = leyS_par.sum()\n",
    "    if suma_probabilidades == 1:\n",
    "        print(f\"La suma de las probabilidades es {suma_probabilidades}\")\n",
    "    else:\n",
    "        print(f\"La suma de las probabilidades no es 1, es {suma_probabilidades}\")\n",
    "\n",
    "    # Retorna el DataFrame ordenado\n",
    "    return leyS_par"
   ]
  },
  {
   "cell_type": "code",
   "execution_count": 9,
   "metadata": {},
   "outputs": [
    {
     "name": "stdout",
     "output_type": "stream",
     "text": [
      "Diferencia: Pares\n",
      "-5: {(1, 6)}\n",
      "-4: {(2, 6), (1, 5)}\n",
      "-3: {(2, 5), (1, 4), (3, 6)}\n",
      "-2: {(2, 4), (4, 6), (1, 3), (3, 5)}\n",
      "2: {(3, 1), (5, 3), (6, 4), (4, 2)}\n",
      "3: {(6, 3), (4, 1), (5, 2)}\n",
      "4: {(6, 2), (5, 1)}\n",
      "5: {(6, 1)}\n",
      "La suma de las probabilidades es 1\n"
     ]
    },
    {
     "data": {
      "text/plain": [
       "-5    1/20\n",
       "-4    1/10\n",
       "-3    3/20\n",
       "-2     1/5\n",
       " 2     1/5\n",
       " 3    3/20\n",
       " 4    1/10\n",
       " 5    1/20\n",
       "dtype: object"
      ]
     },
     "execution_count": 9,
     "metadata": {},
     "output_type": "execute_result"
    }
   ],
   "source": [
    "# Uso de las funciones\n",
    "ley_diferencia_mayor_uno_diccionario = calcular_ley_diferencia_mayor_uno()\n",
    "ley_diferencia_mayor_uno_diccionario\n"
   ]
  },
  {
   "cell_type": "code",
   "execution_count": 10,
   "metadata": {},
   "outputs": [
    {
     "name": "stdout",
     "output_type": "stream",
     "text": [
      "Suma: Pares\n",
      "2: {(1, 1)}\n",
      "4: {(3, 1), (1, 3), (2, 2)}\n",
      "6: {(2, 4), (1, 5), (5, 1), (4, 2), (3, 3)}\n",
      "8: {(4, 4), (6, 2), (2, 6), (5, 3), (3, 5)}\n",
      "10: {(4, 6), (6, 4), (5, 5)}\n",
      "12: {(6, 6)}\n",
      "La suma de las probabilidades es 1\n"
     ]
    },
    {
     "data": {
      "text/plain": [
       "2     1/18\n",
       "4      1/6\n",
       "6     5/18\n",
       "8     5/18\n",
       "10     1/6\n",
       "12    1/18\n",
       "dtype: object"
      ]
     },
     "execution_count": 10,
     "metadata": {},
     "output_type": "execute_result"
    }
   ],
   "source": [
    "ley_suma_par_diccionario = calcular_ley_suma_par()\n",
    "ley_suma_par_diccionario"
   ]
  },
  {
   "cell_type": "markdown",
   "metadata": {},
   "source": [
    "## 3) Verifica que la suma de las probabilidades sea 1\n",
    "\n",
    "$$\\sum_{k\\in R_{X}}\\mathbb{P}(X=k) = 1$$"
   ]
  },
  {
   "cell_type": "code",
   "execution_count": 11,
   "metadata": {},
   "outputs": [
    {
     "data": {
      "text/plain": [
       "[0.0,\n",
       " 0.027777777777777776,\n",
       " 0.05555555555555555,\n",
       " 0.08333333333333333,\n",
       " 0.1111111111111111,\n",
       " 0.1388888888888889,\n",
       " 0.16666666666666666,\n",
       " 0.1388888888888889,\n",
       " 0.1111111111111111,\n",
       " 0.08333333333333333,\n",
       " 0.05555555555555555,\n",
       " 0.027777777777777776]"
      ]
     },
     "execution_count": 11,
     "metadata": {},
     "output_type": "execute_result"
    }
   ],
   "source": [
    "# Calcular las probabilidades de obtener cada suma de 2 a 12 pondre el segundo elemnto para se vea el 0 (por que no hay suma que de 1 o 0 de los dados)\n",
    "probabilidades = [funcion_distribucion_suma(n) for n in range(1, 13)]\n",
    "probabilidades\n"
   ]
  },
  {
   "cell_type": "code",
   "execution_count": 12,
   "metadata": {},
   "outputs": [
    {
     "name": "stdout",
     "output_type": "stream",
     "text": [
      "La probabilidad de obtener una suma de 0 es: 0.0\n",
      "La probabilidad de obtener una suma de 1 es: 0.0\n",
      "La probabilidad de obtener una suma de 2 es: 0.027777777777777776\n",
      "La probabilidad de obtener una suma de 3 es: 0.05555555555555555\n",
      "La probabilidad de obtener una suma de 12 es: 0.027777777777777776\n"
     ]
    }
   ],
   "source": [
    "print(f\"La probabilidad de obtener una suma de 0 es: {funcion_distribucion_suma(0)}\\n\"\n",
    "      f\"La probabilidad de obtener una suma de 1 es: {funcion_distribucion_suma(1)}\\n\"\n",
    "      f\"La probabilidad de obtener una suma de 2 es: {funcion_distribucion_suma(2)}\\n\"\n",
    "      f\"La probabilidad de obtener una suma de 3 es: {funcion_distribucion_suma(3)}\\n\"\n",
    "      f\"La probabilidad de obtener una suma de 12 es: {funcion_distribucion_suma(12)}\")"
   ]
  },
  {
   "cell_type": "markdown",
   "metadata": {},
   "source": [
    "Sumas Posibles:\n",
    "\n",
    "* Suma Mínima: La suma más baja que se puede obtener es 2, que ocurre cuando ambos dados muestran 1 (1 + 1 = 2)\n",
    "* Suma Máxima: La suma más alta que se puede obtener es 12, que ocurre cuando ambos dados muestran 6 (6 + 6 = 12)\n",
    "\n",
    "Para aclarar:\n",
    "\n",
    "* Para n = 2: Solo hay una combinación posible (1, 1)\n",
    "* Para n = 7: Hay seis combinaciones posibles, como (1, 6), (2, 5), etc\n",
    "* Para n > 12 y n < 2: No hay combinaciones posibles, por lo que la probabilidad es 0"
   ]
  },
  {
   "cell_type": "code",
   "execution_count": 13,
   "metadata": {},
   "outputs": [
    {
     "name": "stdout",
     "output_type": "stream",
     "text": [
      "La suma de las probabilidades es aproximadamente 1, ya que la suma es 1.0000000000000002\n"
     ]
    }
   ],
   "source": [
    "# Verificar la suma de las probabilidades\n",
    "suma_probabilidades = sum(probabilidades)\n",
    "if round(abs(suma_probabilidades - 1)) < 1:\n",
    "    print(f\"La suma de las probabilidades es aproximadamente 1, ya que la suma es {suma_probabilidades}\")  \n",
    "else:\n",
    "    print(F\"La suma de las probabilidades no es 1, ya que la suma de la variables es {suma_probabilidades}\")"
   ]
  },
  {
   "cell_type": "markdown",
   "metadata": {},
   "source": [
    "La diferencia entre 1 y 1.0000000000000002 es una manifestación normal de errores de redondeo inherentes a la representación de números en punto flotante en las computadoras (esto no lo sabia pense que eran 100% precisas)\n",
    "\n",
    "Pero ahora se que: Aunque el resultado no es exactamente 1, está extremadamente cerca, lo cual es suficiente para la mayoría de las aplicaciones prácticas en programación\n",
    "\n",
    "Por lo tanto, en la mayoría de los casos(segun internet), una diferencia pequeña como esta se considera aceptable y no afecta significativamente los resultados de los cálculos\n",
    "\n",
    "Curioso como con listas obtenemos 1.0000000000000002 y con diccionarios 1 (no se si sea por la forma en que se almacenan los datos)"
   ]
  },
  {
   "cell_type": "markdown",
   "metadata": {},
   "source": [
    "## 4) Gráfica y calcula la función de distribución de la v.a. S"
   ]
  },
  {
   "cell_type": "code",
   "execution_count": 14,
   "metadata": {},
   "outputs": [
    {
     "data": {
      "image/png": "[encoded data removed]",
      "text/plain": [
       "<Figure size 1000x600 with 1 Axes>"
      ]
     },
     "metadata": {},
     "output_type": "display_data"
    }
   ],
   "source": [
    "# Calcular las probabilidades para cada suma de 2 a 12\n",
    "sumas = range(2, 13)\n",
    "probabilidades = [funcion_distribucion_suma(n) for n in sumas]\n",
    "\n",
    "# Graficar\n",
    "plt.figure(figsize=(10, 6))\n",
    "plt.bar(sumas, probabilidades, color='skyblue')\n",
    "plt.xlabel('Suma de los resultados')\n",
    "plt.ylabel('Probabilidad')\n",
    "plt.title('Función de distribución de la suma de dos dados')\n",
    "plt.xticks(sumas)\n",
    "plt.grid(axis='y', linestyle='--', alpha=0.7)\n",
    "plt.show()"
   ]
  },
  {
   "cell_type": "markdown",
   "metadata": {},
   "source": [
    "Características de la distribución de sumas de dados\n",
    "* Distribución simétrica:\n",
    "\n",
    "La distribución de la suma de dos dados es simétrica alrededor de la media (7 en este caso)\n",
    "\n",
    "Esto se parece a la forma de una distribución normal, que también es simétrica\n",
    "\n",
    "* Forma de campana:\n",
    "\n",
    "Aunque no es una distribución normal perfecta, la gráfica puede tener una forma similar a una campana (más altas en el centro y más bajas en los extremos)\n",
    "\n",
    "Esto se debe a que hay más combinaciones posibles para las sumas cercanas a 7 y menos para las sumas extremas (2 o 12)\n",
    "\n",
    "\n",
    "* ¿Por que no es exactamente nnormal?\n",
    "\n",
    "Número finito de pbservaciones:\n",
    "La distribución de la suma de dos dados tiene un número finito de posibles resultados (11 posibles sumas)\n",
    "\n",
    "La distribución normal es una distribución continua con infinitos posibles resultados\n",
    "\n",
    "\n",
    "* No es continua:\n",
    "\n",
    "La distribución de la suma de dos dados es discreta. cada suma tiene una probabilidad exacta y no hay valores intermedios posibles (como en una distribución normal continua)\n",
    "\n",
    "* Forma de la distribución:\n",
    "\n",
    "La distribución de la suma de dos dados sigue una distribución conocida como distribución de la suma de variables aleatorias discretas, que se puede aproximar a una normal cuando el número de dados aumenta debido al Teorema central del límite"
   ]
  },
  {
   "cell_type": "markdown",
   "metadata": {},
   "source": [
    "la gráfica de barras para la suma de dos dados puede parecerse a una distribución normal, pero no es exactamente una distribución normal. La similitud en la forma se debe a la distribución de las sumas de dos dados, que tiende a ser simétrica y a formar una curva que se asemeja a una campana"
   ]
  },
  {
   "cell_type": "markdown",
   "metadata": {},
   "source": []
  }
 ],
 "metadata": {
  "kernelspec": {
   "display_name": "Python 3",
   "language": "python",
   "name": "python3"
  },
  "language_info": {
   "codemirror_mode": {
    "name": "ipython",
    "version": 3
   },
   "file_extension": ".py",
   "mimetype": "text/x-python",
   "name": "python",
   "nbconvert_exporter": "python",
   "pygments_lexer": "ipython3",
   "version": "3.11.9"
  }
 },
 "nbformat": 4,
 "nbformat_minor": 2
}
